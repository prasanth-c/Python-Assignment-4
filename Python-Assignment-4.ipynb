{
 "cells": [
  {
   "cell_type": "raw",
   "metadata": {},
   "source": [
    "Python-Assignment-4"
   ]
  },
  {
   "cell_type": "raw",
   "metadata": {},
   "source": [
    "1.1 Write a Python Program(with class concepts) to find the area of the triangle using the below\n",
    "formula.\n",
    "area = (s*(s-a)*(s-b)*(s-c)) ** 0.5\n",
    "Function to take the length of the sides of triangle from user should be defined in the parent\n",
    "class and function to calculate the area should be defined in subclass."
   ]
  },
  {
   "cell_type": "code",
   "execution_count": 2,
   "metadata": {},
   "outputs": [
    {
     "name": "stdout",
     "output_type": "stream",
     "text": [
      "Enter side 1 : 4\n",
      "Enter side 2 : 3\n",
      "Enter side 3 : 5\n",
      "Side 1 is 4.0\n",
      "Side 2 is 3.0\n",
      "Side 3 is 5.0\n",
      "The area of the triangle is 6.00\n"
     ]
    }
   ],
   "source": [
    "class Polygon:\n",
    "    def __init__(self, no_of_sides):\n",
    "        self.n = no_of_sides\n",
    "        self.sides = [0 for i in range(no_of_sides)]\n",
    "\n",
    "    def inputSides(self):\n",
    "        self.sides = [float(input(\"Enter side \"+str(i+1)+\" : \")) for i in range(self.n)]\n",
    "\n",
    "    def dispSides(self):\n",
    "        for i in range(self.n):\n",
    "            print(\"Side\",i+1,\"is\",self.sides[i])\n",
    "            \n",
    "class Triangle(Polygon):\n",
    "    def __init__(self):\n",
    "        Polygon.__init__(self,3)\n",
    "\n",
    "    def findArea(self):\n",
    "        a, b, c = self.sides\n",
    "        # calculate the semi-perimeter\n",
    "        s = (a + b + c) / 2\n",
    "        area = (s*(s-a)*(s-b)*(s-c)) ** 0.5\n",
    "        print('The area of the triangle is %0.2f' %area) \n",
    "        \n",
    "        \n",
    "t = Triangle()\n",
    "t.inputSides()\n",
    "t.dispSides()\n",
    "t.findArea()"
   ]
  },
  {
   "cell_type": "raw",
   "metadata": {},
   "source": [
    "1.2 Write a function filter_long_words() that takes a list of words and an integer n and returns\n",
    "the list of words that are longer than n."
   ]
  },
  {
   "cell_type": "code",
   "execution_count": 3,
   "metadata": {},
   "outputs": [
    {
     "name": "stdout",
     "output_type": "stream",
     "text": [
      "['makes', 'sense', 'Estas', 'enfermedad', 'cargo', 'poltico']\n"
     ]
    }
   ],
   "source": [
    "def filter_long_words(list_words , n):\n",
    "    lst=[]\n",
    "    for i in list_words:\n",
    "        if len(i)>n:\n",
    "            lst=lst+[i]\n",
    "    return lst     \n",
    "    \n",
    "    \n",
    "lst=['oh', 'yea', 'makes', 'sense','Estas', 'enfermedad', 'un', 'cargo', 'poltico']\n",
    "filtered_lst=filter_long_words(lst , 3)\n",
    "print(filtered_lst)"
   ]
  },
  {
   "cell_type": "raw",
   "metadata": {},
   "source": [
    "2.1 Write a Python program using function concept that maps list of words into a list of integers\n",
    "representing the lengths of the corresponding words.\n",
    "Hint: If a list [ ab,cde,erty] is passed on to the python function output should come as [2,3,4]\n",
    "Here 2,3 and 4 are the lengths of the words in the list."
   ]
  },
  {
   "cell_type": "code",
   "execution_count": 6,
   "metadata": {},
   "outputs": [
    {
     "name": "stdout",
     "output_type": "stream",
     "text": [
      "[2, 3, 5, 5, 5, 10, 2, 5, 7]\n"
     ]
    }
   ],
   "source": [
    "def wordtoint(lists):\n",
    "    nwlst=[]\n",
    "    for i in lists:\n",
    "        nwlst=nwlst+[len(i)]\n",
    "    return nwlst\n",
    "\n",
    "\n",
    "lst=['oh', 'yea', 'makes', 'sense','Estas', 'enfermedad', 'un', 'cargo', 'poltico']\n",
    "count_lst=wordtoint(lst)\n",
    "print(count_lst)"
   ]
  },
  {
   "cell_type": "raw",
   "metadata": {},
   "source": [
    "2.2 Write a Python function which takes a character (i.e. a string of length 1) and returns True if\n",
    "it is a vowel, False otherwise."
   ]
  },
  {
   "cell_type": "code",
   "execution_count": 8,
   "metadata": {},
   "outputs": [
    {
     "name": "stdout",
     "output_type": "stream",
     "text": [
      "It is a vowel\n"
     ]
    }
   ],
   "source": [
    "def vowel(character):\n",
    "    for i in ['a','A','e','E','i','I','o','O','u','U']:\n",
    "        if character==i:\n",
    "            print('It is a vowel')\n",
    "            break\n",
    "    else:\n",
    "        print('It is not a vowel')\n",
    "        \n",
    "vowel('a')"
   ]
  }
 ],
 "metadata": {
  "kernelspec": {
   "display_name": "Python 3",
   "language": "python",
   "name": "python3"
  },
  "language_info": {
   "codemirror_mode": {
    "name": "ipython",
    "version": 3
   },
   "file_extension": ".py",
   "mimetype": "text/x-python",
   "name": "python",
   "nbconvert_exporter": "python",
   "pygments_lexer": "ipython3",
   "version": "3.6.5"
  }
 },
 "nbformat": 4,
 "nbformat_minor": 2
}
